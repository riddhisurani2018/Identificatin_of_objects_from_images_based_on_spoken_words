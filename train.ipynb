{
 "cells": [
  {
   "cell_type": "code",
   "execution_count": 1,
   "metadata": {},
   "outputs": [],
   "source": [
    "from __future__ import division\n",
    "\n",
    "import os\n",
    "import numpy as np\n",
    "from sklearn.metrics import classification_report\n",
    "from sklearn.metrics import f1_score\n",
    "\n",
    "import torch\n",
    "from torch.nn import *\n",
    "import torch.nn.functional as F\n",
    "from torch import optim\n",
    "import torchvision.models as models\n",
    "from torch.utils.data import DataLoader\n",
    "\n",
    "from dataloaderraw import ImageSpecDataset\n",
    "from models.model import ImgSpecModel"
   ]
  },
  {
   "cell_type": "code",
   "execution_count": 2,
   "metadata": {},
   "outputs": [],
   "source": [
    "def clip_gradient(optimizer, grad_clip=0.1):\n",
    "    for group in optimizer.param_groups:\n",
    "        for param in group['params']:\n",
    "            param.grad.data.clamp_(-grad_clip, grad_clip)"
   ]
  },
  {
   "cell_type": "code",
   "execution_count": 3,
   "metadata": {},
   "outputs": [],
   "source": [
    "def set_lr(onptimizer, lr):\n",
    "    for group in optimizer.parma_groups:\n",
    "        group['lr'] = lr"
   ]
  },
  {
   "cell_type": "code",
   "execution_count": 4,
   "metadata": {},
   "outputs": [],
   "source": [
    "def update_lr(epoch, optimizer):\n",
    "    learning_rate_decay_start = 1\n",
    "    learning_rate_decay_every = 3\n",
    "    learning_rate_decay_rate = 0.8\n",
    "    learning_rate = 4e-4\n",
    "    if epoch > learning_rate_decay_start and learning_rate_decay_start >= 0:\n",
    "        frac = (epoch - learning_rate_decay_start) // learning_rate_decay_every\n",
    "        decay_factor = learning_rate_decay_rate  ** frac\n",
    "        current_lr = learning_rate * decay_factor\n",
    "        set_lr(optimizer, current_lr)"
   ]
  },
  {
   "cell_type": "code",
   "execution_count": 5,
   "metadata": {},
   "outputs": [],
   "source": [
    "def save_model_latest(model, optimizer, epoch, checkpoint_path='save'):\n",
    "    torch.save(model.state_dict(), os.path.join(checkpoint_path, 'model_{}.pth'.format(epoch)))\n",
    "    torch.save(model.state_dict(), os.path.join(checkpoint_path, 'model_latest.pth'))\n",
    "    torch.save(optimizer.state_dict(), os.path.join(checkpoint_path, 'optimizer_{}.pth'.format(epoch)))\n",
    "    torch.save(optimizer.state_dict(), os.path.join(checkpoint_path, 'optimizer_latest.pth'))"
   ]
  },
  {
   "cell_type": "code",
   "execution_count": 6,
   "metadata": {},
   "outputs": [],
   "source": [
    "imgspec_model = ImgSpecModel()\n",
    "\n",
    "train_imgspec_dataset = ImageSpecDataset(root_dir='C:\\\\Users\\\\Riddhi\\\\project_final\\\\small_dataset_objects', split='train')\n",
    "train_dataloader = DataLoader(train_imgspec_dataset, batch_size=10, shuffle=True, num_workers=1)\n",
    "\n",
    "val_imgspec_dataset = ImageSpecDataset(root_dir='C:\\\\Users\\\\Riddhi\\\\project_final\\\\small_dataset_objects', split='val')\n",
    "val_dataloader = DataLoader(val_imgspec_dataset, batch_size=10, shuffle=True, num_workers=4)\n",
    "\n",
    "class_weight = torch.from_numpy(np.array([1.0, 3.0])).float()\n",
    "cce_loss = CrossEntropyLoss(weight=class_weight)\n",
    "optimizer = optim.SGD(imgspec_model.parameters(), lr=0.01, momentum=0.9)\n"
   ]
  },
  {
   "cell_type": "code",
   "execution_count": 7,
   "metadata": {},
   "outputs": [
    {
     "name": "stdout",
     "output_type": "stream",
     "text": [
      "Iteration: 0, Loss: 0.578986406326294\n",
      "Iteration: 50, Loss: 1.2038652896881104\n",
      "Iteration: 100, Loss: 0.6777559518814087\n",
      "Iteration: 150, Loss: 0.6610709428787231\n",
      "Iteration: 200, Loss: 0.9312670826911926\n",
      "Iteration: 250, Loss: 0.6948962211608887\n",
      "Iteration: 300, Loss: 0.7211440801620483\n",
      "Iteration: 350, Loss: 0.7320276498794556\n",
      "Iteration: 400, Loss: 0.680740237236023\n",
      "Iteration: 450, Loss: 0.7084603309631348\n",
      "Iteration: 500, Loss: 0.6922925710678101\n",
      "Iteration: 550, Loss: 0.7268286943435669\n",
      "Iteration: 600, Loss: 0.645790696144104\n",
      "\n",
      "\n",
      "\n"
     ]
    },
    {
     "name": "stderr",
     "output_type": "stream",
     "text": [
      "C:\\Users\\Riddhi\\Anaconda3\\lib\\site-packages\\sklearn\\metrics\\classification.py:1437: UndefinedMetricWarning: Precision and F-score are ill-defined and being set to 0.0 in labels with no predicted samples.\n",
      "  'precision', 'predicted', average, warn_for)\n"
     ]
    },
    {
     "name": "stdout",
     "output_type": "stream",
     "text": [
      "              precision    recall  f1-score   support\n",
      "\n",
      "         0.0       0.00      0.00      0.00       980\n",
      "         1.0       0.27      1.00      0.43       366\n",
      "\n",
      "    accuracy                           0.27      1346\n",
      "   macro avg       0.14      0.50      0.21      1346\n",
      "weighted avg       0.07      0.27      0.12      1346\n",
      "\n"
     ]
    },
    {
     "name": "stderr",
     "output_type": "stream",
     "text": [
      "C:\\Users\\Riddhi\\Anaconda3\\lib\\site-packages\\sklearn\\metrics\\classification.py:1437: UndefinedMetricWarning: F-score is ill-defined and being set to 0.0 in labels with no predicted samples.\n",
      "  'precision', 'predicted', average, warn_for)\n"
     ]
    },
    {
     "name": "stdout",
     "output_type": "stream",
     "text": [
      "Epoch: 0, ValF1: 0.21378504672897194\n",
      "Epoch: 0, saving better model!\n"
     ]
    },
    {
     "ename": "NameError",
     "evalue": "name 'save_model_best' is not defined",
     "output_type": "error",
     "traceback": [
      "\u001b[1;31m---------------------------------------------------------------------------\u001b[0m",
      "\u001b[1;31mNameError\u001b[0m                                 Traceback (most recent call last)",
      "\u001b[1;32m<ipython-input-7-43b794623c1f>\u001b[0m in \u001b[0;36m<module>\u001b[1;34m\u001b[0m\n\u001b[0;32m     41\u001b[0m         \u001b[0mprint\u001b[0m\u001b[1;33m(\u001b[0m\u001b[1;34m'Epoch: {}, saving better model!'\u001b[0m\u001b[1;33m.\u001b[0m\u001b[0mformat\u001b[0m\u001b[1;33m(\u001b[0m\u001b[0mepoch\u001b[0m\u001b[1;33m)\u001b[0m\u001b[1;33m)\u001b[0m\u001b[1;33m\u001b[0m\u001b[1;33m\u001b[0m\u001b[0m\n\u001b[0;32m     42\u001b[0m         \u001b[0mbest_val_acc\u001b[0m \u001b[1;33m=\u001b[0m \u001b[0macc\u001b[0m\u001b[1;33m\u001b[0m\u001b[1;33m\u001b[0m\u001b[0m\n\u001b[1;32m---> 43\u001b[1;33m         \u001b[0msave_model_best\u001b[0m\u001b[1;33m(\u001b[0m\u001b[0mimgspec_model\u001b[0m\u001b[1;33m,\u001b[0m \u001b[0moptimizer\u001b[0m\u001b[1;33m,\u001b[0m \u001b[0mepoch\u001b[0m\u001b[1;33m,\u001b[0m \u001b[0mbest_val_acc\u001b[0m\u001b[1;33m,\u001b[0m \u001b[1;34m'acc'\u001b[0m\u001b[1;33m)\u001b[0m\u001b[1;33m\u001b[0m\u001b[1;33m\u001b[0m\u001b[0m\n\u001b[0m\u001b[0;32m     44\u001b[0m     \u001b[0mprint\u001b[0m\u001b[1;33m(\u001b[0m\u001b[1;34m'\\n\\n'\u001b[0m\u001b[1;33m)\u001b[0m\u001b[1;33m\u001b[0m\u001b[1;33m\u001b[0m\u001b[0m\n\u001b[0;32m     45\u001b[0m \u001b[1;33m\u001b[0m\u001b[0m\n",
      "\u001b[1;31mNameError\u001b[0m: name 'save_model_best' is not defined"
     ]
    }
   ],
   "source": [
    "best_val_acc = 0\n",
    "print_loss_every = 50\n",
    "for epoch in range(50):\n",
    "    imgspec_model.train()\n",
    "    for i_batch, batch in enumerate(train_dataloader):\n",
    "        optimizer.zero_grad()\n",
    "        img_feats = batch['img_feats'].float()\n",
    "        spec_imgs = batch['spec'].unsqueeze(1).float()\n",
    "        scores = batch['score'].long()\n",
    "        preds = imgspec_model(img_feats, spec_imgs)\n",
    "        loss = cce_loss(preds, scores)\n",
    "        loss.backward()\n",
    "        clip_gradient(optimizer)\n",
    "        optimizer.step()\n",
    "        if i_batch%print_loss_every == 0:\n",
    "            print('Iteration: {}, Loss: {}'.format(i_batch, loss.item()))\n",
    "    update_lr(epoch, optimizer)\n",
    "    save_model_latest(imgspec_model, optimizer, epoch)\n",
    "    imgspec_model.eval()\n",
    "    correct_class, incorrect_class = 0, 0\n",
    "    all_preds, all_org = [], []\n",
    "    for i_batch, batch in enumerate(val_dataloader):\n",
    "        img_feats = batch['img_feats'].float()\n",
    "        spec_imgs = batch['spec'].unsqueeze(1).float()\n",
    "        scores = batch['score'].float().numpy()\n",
    "        preds = F.softmax(imgspec_model(img_feats, spec_imgs).detach(), dim=1)\n",
    "        _, preds = torch.max(preds, 1)\n",
    "        preds = preds.cpu().numpy()\n",
    "        #preds = np.where(preds > 0.5, 1, 0)\n",
    "        for org, pred in zip(scores, preds):\n",
    "            correct_class += int(org == pred)\n",
    "            incorrect_class += int(org != pred)\n",
    "            all_org.append(org)\n",
    "            all_preds.append(pred)\n",
    "    #acc = float(correct_class) / float(correct_class + incorrect_class)\n",
    "    print('\\n\\n')\n",
    "    print(classification_report(all_org, all_preds))\n",
    "    acc = f1_score(all_org, all_preds, average='macro')\n",
    "    print('Epoch: {}, ValF1: {}'.format(epoch, acc))\n",
    "    if acc > best_val_acc:\n",
    "        print('Epoch: {}, saving better model!'.format(epoch))\n",
    "        best_val_acc = acc\n",
    "        save_model_best(imgspec_model, optimizer, epoch, best_val_acc, 'acc')\n",
    "    print('\\n\\n')\n",
    "        "
   ]
  },
  {
   "cell_type": "code",
   "execution_count": null,
   "metadata": {},
   "outputs": [],
   "source": []
  },
  {
   "cell_type": "code",
   "execution_count": null,
   "metadata": {},
   "outputs": [],
   "source": []
  }
 ],
 "metadata": {
  "kernelspec": {
   "display_name": "Python 3",
   "language": "python",
   "name": "python3"
  },
  "language_info": {
   "codemirror_mode": {
    "name": "ipython",
    "version": 3
   },
   "file_extension": ".py",
   "mimetype": "text/x-python",
   "name": "python",
   "nbconvert_exporter": "python",
   "pygments_lexer": "ipython3",
   "version": "3.7.3"
  }
 },
 "nbformat": 4,
 "nbformat_minor": 2
}

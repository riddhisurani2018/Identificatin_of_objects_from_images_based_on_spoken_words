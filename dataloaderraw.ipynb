{
 "cells": [
  {
   "cell_type": "code",
   "execution_count": 2,
   "metadata": {},
   "outputs": [],
   "source": [
    "# %load dataloaderraw.py\n",
    "from __future__ import division\n",
    "\n",
    "import os\n",
    "import torch\n",
    "from skimage import io, transform\n",
    "import numpy as np\n",
    "from torch.utils.data import Dataset\n",
    "\n",
    "class ImageSpecDataset(Dataset):\n",
    "    \"\"\"Dataset consisting of image files ans spectrogram images of audio files.\"\"\"\n",
    "\n",
    "    def __init__(self, root_dir, split = 'train'):\n",
    "        \"\"\"\n",
    "        Args:\n",
    "            root_dir (string): Directory with all the images.\n",
    "        \"\"\"\n",
    "        csv_file = os.path.join(root_dir, split + '_split.tsv')\n",
    "        self.file_list = []\n",
    "        for line in open(csv_file, 'r').readlines()[1:]:\n",
    "            self.file_list.append(line.split('\\t'))\n",
    "        self.root_dir = root_dir\n",
    "        self.split = split\n",
    "\n",
    "    def __len__(self):\n",
    "        return len(self.file_list)\n",
    "\n",
    "    def __getitem__(self, idx):\n",
    "        if torch.is_tensor(idx):\n",
    "            idx = idx.tolist()\n",
    "        \n",
    "        img_name = os.path.join(self.root_dir, self.split, 'img_feats', self.file_list[idx][0]+'.npy')\n",
    "        image_feats = np.load(img_name)\n",
    "        specs_name = os.path.join(self.root_dir, self.split, 'spec', self.file_list[idx][0]+'.png')\n",
    "        spectrogram = io.imread(specs_name, as_gray=True) / 255.0\n",
    "        spectrogram = np.asarray(spectrogram)\n",
    "        score = self.file_list[idx][11]\n",
    "        sample = {'img_feats': image_feats, 'spec': spectrogram, 'score': float(score)}\n",
    "\n",
    "        return sample\n"
   ]
  },
  {
   "cell_type": "code",
   "execution_count": null,
   "metadata": {},
   "outputs": [],
   "source": []
  }
 ],
 "metadata": {
  "kernelspec": {
   "display_name": "Python 3",
   "language": "python",
   "name": "python3"
  },
  "language_info": {
   "codemirror_mode": {
    "name": "ipython",
    "version": 3
   },
   "file_extension": ".py",
   "mimetype": "text/x-python",
   "name": "python",
   "nbconvert_exporter": "python",
   "pygments_lexer": "ipython3",
   "version": "3.7.3"
  }
 },
 "nbformat": 4,
 "nbformat_minor": 2
}

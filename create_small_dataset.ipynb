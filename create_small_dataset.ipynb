{
 "cells": [
  {
   "cell_type": "code",
   "execution_count": null,
   "metadata": {},
   "outputs": [],
   "source": [
    "\n",
    "import os\n",
    "import json\n",
    "from random import choice\n",
    "from shutil import copyfile\n",
    "from collections import defaultdict\n",
    "\n",
    "json_in_path = 'audios/val2014/json'\n",
    "wav_in_path = 'audios/val2014/wav'\n",
    "img_in_path = 'imgs/val2014'\n",
    "\n",
    "img_id_to_json = defaultdict(list)\n",
    "img_id_to_wav = defaultdict(list)\n",
    "\n",
    "fl_cnt = 0\n",
    "for fl in os.listdir(json_in_path):\n",
    "    data = json.load(open('{}/{}'.format(json_in_path, fl), 'r'))\n",
    "    wav_file_name = data['wavFilename']\n",
    "    img_id = data['imgID']\n",
    "    img_id_to_json[img_id].append(fl)\n",
    "    img_id_to_wav[img_id].append(wav_file_name)\n",
    "    fl_cnt += 1\n",
    "    if fl_cnt % 1000 == 0:\n",
    "        print(fl_cnt)\n",
    "\n",
    "selected_files = {}\n",
    "img_ids = list(img_id_to_json.keys())\n",
    "\n",
    "split_sizes = {'train':500, 'test':100, 'val':100}\n",
    "img_file_format = 'COCO_val2014_{:012d}.jpg'\n",
    "dataset_size = 0\n",
    "\n",
    "for split in ['train', 'test', 'val']:\n",
    "    # creating split\n",
    "    json_out_path = 'small_dataset_dummy/{}/json'.format(split)\n",
    "    wav_out_path = 'small_dataset_dummy/{}/wav'.format(split)\n",
    "    img_out_path = 'small_dataset_dummy/{}/img'.format(split)\n",
    "    dataset_size += split_sizes[split] # split_size\n",
    "    while len(selected_files) < dataset_size:\n",
    "        img_id = choice(img_ids)\n",
    "        if img_id in selected_files:\n",
    "            continue\n",
    "        selected_files[img_id] = True\n",
    "        for fl in img_id_to_json[img_id]:\n",
    "            json_in_file = '{}/{}'.format(json_in_path, fl)\n",
    "            json_out_file = '{}/{}'.format(json_out_path, fl)\n",
    "            copyfile(json_in_file, json_out_file)\n",
    "        for fl in img_id_to_wav[img_id]:\n",
    "            wav_in_file = '{}/{}'.format(wav_in_path, fl)\n",
    "            wav_out_file = '{}/{}'.format(wav_out_path, fl)\n",
    "            copyfile(wav_in_file, wav_out_file)\n",
    "        img_file_name = img_file_format.format(img_id)\n",
    "        img_in_file = '{}/{}'.format(img_in_path, img_file_name)\n",
    "        img_out_file = '{}/{}'.format(img_out_path, img_file_name)\n",
    "        copyfile(img_in_file, img_out_file)\n"
   ]
  },
  {
   "cell_type": "code",
   "execution_count": null,
   "metadata": {},
   "outputs": [],
   "source": []
  },
  {
   "cell_type": "code",
   "execution_count": null,
   "metadata": {},
   "outputs": [],
   "source": []
  }
 ],
 "metadata": {
  "kernelspec": {
   "display_name": "Python 3",
   "language": "python",
   "name": "python3"
  },
  "language_info": {
   "codemirror_mode": {
    "name": "ipython",
    "version": 3
   },
   "file_extension": ".py",
   "mimetype": "text/x-python",
   "name": "python",
   "nbconvert_exporter": "python",
   "pygments_lexer": "ipython3",
   "version": "3.7.3"
  }
 },
 "nbformat": 4,
 "nbformat_minor": 2
}

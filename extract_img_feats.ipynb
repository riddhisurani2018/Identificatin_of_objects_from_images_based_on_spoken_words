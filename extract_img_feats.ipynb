{
 "cells": [
  {
   "cell_type": "code",
   "execution_count": null,
   "metadata": {},
   "outputs": [],
   "source": [
    "# %load extract_img_feats.py\n",
    "import os\n",
    "import numpy as np\n",
    "from skimage import io\n",
    "import torch\n",
    "from torch.nn import *\n",
    "import torchvision.models as models\n",
    "\n",
    "# image model\n",
    "image_model = models.resnet152(pretrained=True).cuda()\n",
    "modules = list(image_model.children())[:-1]\n",
    "image_model = Sequential(*modules)\n",
    "image_model.eval()\n",
    "\n",
    "root_dir = 'small_dataset_objects'\n",
    "\n",
    "for split in ['train', 'test', 'val']:\n",
    "    csv_file = os.path.join(root_dir, split + '_split.tsv')\n",
    "    file_list = []\n",
    "    for line in open(csv_file, 'r').readlines()[1:]:\n",
    "        file_list.append(line.split('\\t'))\n",
    "    \n",
    "    out_path = os.path.join(root_dir, split, 'img_feats')\n",
    "    \n",
    "    if not os.path.exists(out_path):\n",
    "        os.makedirs(out_path)\n",
    "    \n",
    "    cnt = 0\n",
    "    for line in file_list:\n",
    "        cnt += 1\n",
    "        print(cnt)\n",
    "        img_name = os.path.join(root_dir, split, 'img', line[0]+'.jpg')\n",
    "        image = torch.from_numpy(np.rollaxis(io.imread(img_name), 2, 0)).unsqueeze(0).float().cuda()\n",
    "        feats = image_model(image).view(-1)\n",
    "        out_file = os.path.join(out_path, line[0])\n",
    "        np.save(out_file, feats.cpu().detach().numpy()) \n"
   ]
  }
 ],
 "metadata": {
  "kernelspec": {
   "display_name": "Python 3",
   "language": "python",
   "name": "python3"
  },
  "language_info": {
   "codemirror_mode": {
    "name": "ipython",
    "version": 3
   },
   "file_extension": ".py",
   "mimetype": "text/x-python",
   "name": "python",
   "nbconvert_exporter": "python",
   "pygments_lexer": "ipython3",
   "version": "3.7.3"
  }
 },
 "nbformat": 4,
 "nbformat_minor": 2
}
